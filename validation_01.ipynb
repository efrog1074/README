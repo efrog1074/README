{
  "nbformat": 4,
  "nbformat_minor": 0,
  "metadata": {
    "colab": {
      "provenance": [],
      "authorship_tag": "ABX9TyP+6ejW1xwq0rilsASfA1jL",
      "include_colab_link": true
    },
    "kernelspec": {
      "name": "python3",
      "display_name": "Python 3"
    },
    "language_info": {
      "name": "python"
    }
  },
  "cells": [
    {
      "cell_type": "markdown",
      "metadata": {
        "id": "view-in-github",
        "colab_type": "text"
      },
      "source": [
        "<a href=\"https://colab.research.google.com/github/efrog1074/README/blob/main/validation_01.ipynb\" target=\"_parent\"><img src=\"https://colab.research.google.com/assets/colab-badge.svg\" alt=\"Open In Colab\"/></a>"
      ]
    },
    {
      "cell_type": "code",
      "source": [
        "import random\n",
        "while True:\n",
        "    # Prompt the user\n",
        "    user_input = input(\"Please enter a string of numerical characters (or -1 to quit): \")\n",
        "\n",
        "    # Check if user wants to quit\n",
        "    if user_input == \"-1\":\n",
        "        print(\"Program terminated. Thanks for using this script. Goodbye!\")\n",
        "        break\n",
        "\n",
        "    # Check if input is all digits\n",
        "    if user_input.isdigit():\n",
        "        string_length = len(user_input)\n",
        "        print(f\"Your input is valid. It contains {string_length} characters.\")\n",
        "    else:\n",
        "        print(\"Invalid input. Please enter only numerical characters.\")\n",
        "    # Part two, the Luhn algrowithm\n",
        "    \"\"\"\n",
        "Luhn Algorithm Explanation:\n",
        "---------------------------\n",
        "The Luhn algorithm (also called the Mod 10 algorithm) is a simple checksum\n",
        "formula used to validate identification numbers such as credit card numbers.\n",
        "\n",
        "Steps:\n",
        "1. Starting from the rightmost digit (excluding the check digit if validating),\n",
        "   double every second digit.\n",
        "   - If doubling results in a number greater than 9, subtract 9.\n",
        "2. Sum all the digits (after the above transformation).\n",
        "3. The total must be divisible by 10 for the number to be valid.\n",
        "\n",
        "To calculate the check digit for a given number:\n",
        "1. Perform steps 1–2 on the number *without* the check digit.\n",
        "2. Find the amount you must add to reach the next multiple of 10.\n",
        "3. That amount is the check digit.\n",
        "\"\"\"\n",
        "\n",
        "def calculate_luhn_check_digit(number_str: str) -> int:\n",
        "    # Convert string into list of integers\n",
        "    digits = [int(d) for d in number_str]\n",
        "\n",
        "    # Start doubling from the right, but skip the check digit position\n",
        "    total = 0\n",
        "    reverse_digits = digits[::-1]\n",
        "\n",
        "    for i, digit in enumerate(reverse_digits):\n",
        "        if i % 2 == 0:  # even index in reversed → original odd position from right\n",
        "            total += digit\n",
        "        else:           # odd index in reversed → double the digit\n",
        "            doubled = digit * 2\n",
        "            if doubled > 9:\n",
        "                doubled -= 9\n",
        "            total += doubled\n",
        "\n",
        "    # The check digit is what makes total % 10 == 0\n",
        "    check_digit = (10 - (total % 10)) % 10\n",
        "    return check_digit\n",
        "\n",
        "\n",
        "# Example usage\n",
        "user_input = \"538148\"\n",
        "check_digit = calculate_luhn_check_digit(user_input)\n",
        "\n",
        "print(f\"Original number: {user_input}\")\n",
        "print(f\"Luhn check digit: {check_digit}\")\n",
        "print(f\"Full number with check digit: {user_input}{check_digit}\")\n",
        "\n"
      ],
      "metadata": {
        "id": "d9KJIamm8N-U",
        "colab": {
          "base_uri": "https://localhost:8080/"
        },
        "outputId": "61aa2a68-00d5-41ce-dda6-94eb380ff36e"
      },
      "execution_count": 2,
      "outputs": [
        {
          "output_type": "stream",
          "name": "stdout",
          "text": [
            "Please enter a string of numerical characters (or -1 to quit): 50494\n",
            "Your input is valid. It contains 5 characters.\n",
            "Please enter a string of numerical characters (or -1 to quit): -1\n",
            "Program terminated. Thanks for using this script. Goodbye!\n",
            "Original number: 538148\n",
            "Luhn check digit: 2\n",
            "Full number with check digit: 5381482\n"
          ]
        }
      ]
    }
  ]
}